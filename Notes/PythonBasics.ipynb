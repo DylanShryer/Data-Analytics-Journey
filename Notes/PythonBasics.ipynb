{
 "cells": [
  {
   "cell_type": "markdown",
   "id": "afbdb615",
   "metadata": {},
   "source": [
    "Hello Python! (video)\n",
    "    Python\n",
    "        Open source\n",
    "        Easy to build packages\n",
    "    Python Shell\n",
    "        Execute Python commands\n",
    "    Python Script\n",
    "        Text files - .py\n",
    "        List of Python commands that will generate an output"
   ]
  },
  {
   "cell_type": "code",
   "execution_count": null,
   "id": "e46f465c",
   "metadata": {},
   "outputs": [
    {
     "name": "stdout",
     "output_type": "stream",
     "text": [
      "0.625\n"
     ]
    }
   ],
   "source": [
    "#instructions\n",
    "   #Hit the run code button to see the output of print(5 / 8).\n",
    "\n",
    "#printing basics\n",
    "print(5 / 8)"
   ]
  },
  {
   "cell_type": "markdown",
   "id": "0b2efc77",
   "metadata": {},
   "source": [
    "Python as a Calculator (exercise)\n",
    "    Perfectly suited to do basic calculations, like addition, subtraction, multiplication, and division"
   ]
  },
  {
   "cell_type": "code",
   "execution_count": null,
   "id": "fa7f5877",
   "metadata": {},
   "outputs": [],
   "source": [
    "#instructions\n",
    "    #Print the result of subtracting 5 from 5 under #Subtraction using print().\n",
    "    #Print the result of multiplying 3 by 5 under #Multiplication.\n",
    "\n",
    "#Addition\n",
    "print(4 + 5)\n",
    "#Division\n",
    "print(10 / 2)\n",
    "#Subtraction\n",
    "print(5-5)\n",
    "#Multiplication\n",
    "print(3 * 5)"
   ]
  },
  {
   "cell_type": "markdown",
   "id": "d405957e",
   "metadata": {},
   "source": [
    "Variables and Types (video)\n",
    "    Variable\n",
    "        Specific case-sensitive name\n",
    "        Call up value through variable name"
   ]
  },
  {
   "cell_type": "code",
   "execution_count": 5,
   "id": "172d0b24",
   "metadata": {},
   "outputs": [
    {
     "name": "stdout",
     "output_type": "stream",
     "text": [
      "<class 'float'>\n",
      "<class 'int'>\n",
      "<class 'str'>\n",
      "<class 'bool'>\n"
     ]
    }
   ],
   "source": [
    "#variable types (video)\n",
    "\n",
    "#float\n",
    "print(type(1.79))\n",
    "#int\n",
    "print(type(1))\n",
    "#string\n",
    "print(type(\"Hello world\"))\n",
    "#boolean\n",
    "print(type(True))"
   ]
  },
  {
   "cell_type": "code",
   "execution_count": null,
   "id": "1eca973c",
   "metadata": {},
   "outputs": [],
   "source": [
    "#using multiple variables together (video)\n",
    "\n",
    "#variable assignment\n",
    "height = 1.79\n",
    "weight = 68.7\n",
    "#print variable\n",
    "print(height)\n",
    "#utilization of multiple variables\n",
    "BMI = weight / height ** 2\n",
    "#print combination\n",
    "print(BMI)"
   ]
  },
  {
   "cell_type": "markdown",
   "id": "ba42f926",
   "metadata": {},
   "source": [
    "Variable Assignment (exercise)\n",
    "    = in Python means assigment, not equality"
   ]
  },
  {
   "cell_type": "code",
   "execution_count": null,
   "id": "4eca2eb0",
   "metadata": {},
   "outputs": [],
   "source": [
    "#instructions\n",
    "    #Create a variable savings with the value of 100.\n",
    "    #Check out this variable by typing print(savings) in the script.\n",
    "    \n",
    "#create a variable savings\n",
    "savings = 100\n",
    "\n",
    "#print out savings\n",
    "print(savings)"
   ]
  },
  {
   "cell_type": "code",
   "execution_count": null,
   "id": "3c3a375e",
   "metadata": {},
   "outputs": [],
   "source": [
    "#instructions\n",
    "    #Create a variable monthly_savings, equal to 10 and num_months, equal to 4.\n",
    "    #Multiply monthly_savings by num_months and assign it to new_savings.\n",
    "    #Print the value of new_savings.\n",
    "\n",
    "#create variables monthly_savings and num_months\n",
    "monthly_savings = 10\n",
    "num_months = 4\n",
    "#multiple monthly_savings and num_months\n",
    "new_savings = monthly_savings * num_months\n",
    "#print new_savings\n",
    "print(new_savings)"
   ]
  },
  {
   "cell_type": "markdown",
   "id": "241a1f6a",
   "metadata": {},
   "source": [
    "Variable Types (exercise)\n",
    "    float\n",
    "        Fraction numbers separated by a point\n",
    "    int\n",
    "        Whole numbers without a fractional part\n",
    "    string\n",
    "        Text with \"\" or ''\n",
    "    boolean\n",
    "        Represents logical values\n",
    "        True or False\n",
    "        Filtering operations"
   ]
  },
  {
   "cell_type": "code",
   "execution_count": null,
   "id": "010b4654",
   "metadata": {},
   "outputs": [
    {
     "name": "stdout",
     "output_type": "stream",
     "text": [
      "0.5\n",
      "Hello! How are you?\n",
      "True\n"
     ]
    }
   ],
   "source": [
    "#instructions\n",
    "    #Create a new float, half, with the value 0.5.\n",
    "    #Create a new string, intro, with the value \"Hello! How are you?\".\n",
    "    #Create a new boolean, is_good, with the value True.\n",
    "\n",
    "#create a variable half\n",
    "half = 0.5\n",
    "print(half)\n",
    "#create a variable intro\n",
    "intro = \"Hello! How are you?\"\n",
    "print(intro)\n",
    "#create a variable is_good\n",
    "is_good = True\n",
    "print(is_good)"
   ]
  },
  {
   "cell_type": "markdown",
   "id": "ce29f0cf",
   "metadata": {},
   "source": [
    "Operations with Variable Types (exercise)\n",
    "    Variable type can by seen by using type()\n",
    "    Different types behave differently in Python\n",
    "        int\n",
    "            Adding together will create one large int\n",
    "        string\n",
    "            Adding together will concatenate strings into one large string\n",
    "        "
   ]
  },
  {
   "cell_type": "code",
   "execution_count": null,
   "id": "c0a566ac",
   "metadata": {},
   "outputs": [
    {
     "name": "stdout",
     "output_type": "stream",
     "text": [
      "140\n",
      "<class 'int'>\n"
     ]
    }
   ],
   "source": [
    "#instructions\n",
    "    #Add savings and new_savings and assign it to total_savings.\n",
    "    #Use type() to print the resulting type of total_savings.\n",
    "\n",
    "savings = 100\n",
    "new_savings = 40\n",
    "\n",
    "#calculate total_savings using savings and new_savings\n",
    "total_savings = savings + new_savings\n",
    "print(total_savings)\n",
    "\n",
    "#print type of total_savings with one combined integer\n",
    "print(type(total_savings))"
   ]
  },
  {
   "cell_type": "code",
   "execution_count": null,
   "id": "cd6168c2",
   "metadata": {},
   "outputs": [
    {
     "name": "stdout",
     "output_type": "stream",
     "text": [
      "Hello! How are you?Hello! How are you?\n"
     ]
    }
   ],
   "source": [
    "#instructions\n",
    "    #Calculate the sum of intro and intro and assign the result to doubleintro.\n",
    "    #Print out doubleintro. Did you expect this?\n",
    "\n",
    "intro = \"Hello! How are you?\"\n",
    "\n",
    "#assign sum of intro and intro to double intro\n",
    "doubleintro = intro + intro\n",
    "\n",
    "#print doubleintro with one big concatenated stirng\n",
    "print(doubleintro)"
   ]
  }
 ],
 "metadata": {
  "kernelspec": {
   "display_name": "da-env",
   "language": "python",
   "name": "python3"
  },
  "language_info": {
   "codemirror_mode": {
    "name": "ipython",
    "version": 3
   },
   "file_extension": ".py",
   "mimetype": "text/x-python",
   "name": "python",
   "nbconvert_exporter": "python",
   "pygments_lexer": "ipython3",
   "version": "3.11.13"
  }
 },
 "nbformat": 4,
 "nbformat_minor": 5
}
