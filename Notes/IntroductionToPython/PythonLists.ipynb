{
 "cells": [
  {
   "cell_type": "markdown",
   "id": "127b91d9",
   "metadata": {},
   "source": [
    "Python Lists"
   ]
  },
  {
   "cell_type": "markdown",
   "id": "7c24d963",
   "metadata": {},
   "source": [
    "Python Data Types (video)\n",
    "    float\n",
    "        Real decimal numbers\n",
    "    int\n",
    "        Integer whole numbers\n",
    "    string\n",
    "        String, text\n",
    "    boolean\n",
    "        True, False\n",
    "    Each variable represents and stores a single value\n",
    "Python List\n",
    "    Provides a single name to a collection of values\n",
    "    Can contain any type, including different types"
   ]
  },
  {
   "cell_type": "code",
   "execution_count": null,
   "id": "b02bb35e",
   "metadata": {},
   "outputs": [
    {
     "name": "stdout",
     "output_type": "stream",
     "text": [
      "[1, 2, 3]\n",
      "<class 'list'>\n",
      "[['liz', 1.73], ['emma', 1.68], ['mom', 1.71], ['dad', 1.89]]\n",
      "<class 'list'>\n"
     ]
    }
   ],
   "source": [
    "#python lists (video)\n",
    "\n",
    "#simple list\n",
    "fam = [1, 2, 3]\n",
    "print(fam)\n",
    "print(type(fam))\n",
    "#lists inside of a list\n",
    "fam2 = [[\"liz\", 1.73], [\"emma\", 1.68], [\"mom\", 1.71], [\"dad\", 1.89]]\n",
    "print(fam2)\n",
    "print(type(fam2))"
   ]
  },
  {
   "cell_type": "markdown",
   "id": "2a5899ad",
   "metadata": {},
   "source": [
    "Create a List (exercise)\n",
    "    List\n",
    "        Compound data type that can be grouped together"
   ]
  },
  {
   "cell_type": "code",
   "execution_count": null,
   "id": "3ab76c0e",
   "metadata": {},
   "outputs": [],
   "source": [
    "#instructions\n",
    "    #Create a list, areas, that contains the area of the hallway (hall), kitchen (kit), living room (liv), bedroom (bed) and bathroom (bath), in this order. Use the predefined variables.\n",
    "    #Print areas with the print() function.\n",
    "\n",
    "#list of area variables\n",
    "hall = 11.25\n",
    "kit = 18.0\n",
    "liv = 20.0\n",
    "bed = 10.75\n",
    "bath = 9.50\n",
    "\n",
    "#create list areas\n",
    "areas = [hall, kit, liv, bed, bath]\n",
    "\n",
    "#print areas\n",
    "print(areas)"
   ]
  },
  {
   "cell_type": "markdown",
   "id": "8f45eec0",
   "metadata": {},
   "source": [
    "Create Lists with Different Types (exercise)\n",
    "    List\n",
    "        Can contain Python types including strings, floats, and booleans"
   ]
  },
  {
   "cell_type": "code",
   "execution_count": null,
   "id": "907123ed",
   "metadata": {},
   "outputs": [
    {
     "name": "stdout",
     "output_type": "stream",
     "text": [
      "['hallway', 11.25, 'kitchen', 18.0, 'living room', 20.0, 'bedroom', 10.75, 'bathroom', 9.5]\n"
     ]
    }
   ],
   "source": [
    "#instructions\n",
    "    #Finish the code that creates the areas list. Build the list so that the list first contains the name of each room as a string and then its area. In other words, add the strings \"hallway\", \"kitchen\" and \"bedroom\" at the appropriate locations.\n",
    "    #Print areas again; is the printout more informative this time?\n",
    "\n",
    "#list of area variables\n",
    "hall = 11.25\n",
    "kit = 18.0\n",
    "liv = 20.0\n",
    "bed = 10.75\n",
    "bath = 9.50\n",
    "\n",
    "#adapt list areas\n",
    "areas = [\"hallway\", hall, \"kitchen\", kit, \"living room\", liv, \"bedroom\", bed, \"bathroom\", bath]\n",
    "\n",
    "#print areas\n",
    "print(areas)"
   ]
  },
  {
   "cell_type": "markdown",
   "id": "280afafc",
   "metadata": {},
   "source": [
    "Lists of Lists (exercise)\n",
    "    Can be used instead of creating a list containing strings and floats"
   ]
  },
  {
   "cell_type": "code",
   "execution_count": null,
   "id": "61896657",
   "metadata": {},
   "outputs": [
    {
     "name": "stdout",
     "output_type": "stream",
     "text": [
      "[['hallway', 11.25], ['kitchen', 18.0], ['living room', 20.0], ['bedroom', 10.75], ['bathroom', 9.5]]\n"
     ]
    }
   ],
   "source": [
    "#instructions\n",
    "    #Finish the list of lists so that it also contains the bedroom and bathroom data. Make sure you enter these in order!\n",
    "    #Print out house; does this way of structuring your data make more sense?\n",
    "\n",
    "#list of area variables\n",
    "hall = 11.25\n",
    "kit = 18.0\n",
    "liv = 20.0\n",
    "bed = 10.75\n",
    "bath = 9.50\n",
    "\n",
    "#house info as lists of lists\n",
    "house = [[\"hallway\", hall],\n",
    "         [\"kitchen\", kit],\n",
    "         [\"living room\", liv],\n",
    "        [\"bedroom\", bed],\n",
    "        [\"bathroom\", bath]]\n",
    "\n",
    "# Print out house\n",
    "print(house)"
   ]
  },
  {
   "cell_type": "markdown",
   "id": "4d2c80d1",
   "metadata": {},
   "source": [
    "Subsetting Lists (video)\n",
    "    Indexing\n",
    "        Position in a list, starting at 0\n",
    "        Can count backwards using negative indexes\n",
    "    Slicing\n",
    "        Select multiple elements from a list to create a new list\n",
    "        Specify a range using a colon\n",
    "        The index specified before the colon (where the slice starts) is included, while the index after (where the slice ends) isn't"
   ]
  },
  {
   "cell_type": "code",
   "execution_count": null,
   "id": "cf5b3c3d",
   "metadata": {},
   "outputs": [
    {
     "name": "stdout",
     "output_type": "stream",
     "text": [
      "['liz', 1.73]\n",
      "['dad', 1.89]\n"
     ]
    }
   ],
   "source": [
    "#list indexes (video)\n",
    "\n",
    "#create list\n",
    "fam2 = [[\"liz\", 1.73], [\"emma\", 1.68], [\"mom\", 1.71], [\"dad\", 1.89]]\n",
    "\n",
    "#1st position aka index 0\n",
    "print(fam2[0])\n",
    "\n",
    "#last position aka index -1\n",
    "print(fam2[-1])\n",
    "\n"
   ]
  },
  {
   "cell_type": "code",
   "execution_count": null,
   "id": "b2d38d98",
   "metadata": {},
   "outputs": [
    {
     "name": "stdout",
     "output_type": "stream",
     "text": [
      "[1.68, 'mom']\n",
      "['liz', 1.73, 'emma', 1.68]\n",
      "[1.71, 'dad', 1.89]\n"
     ]
    }
   ],
   "source": [
    "#list slicing (video)\n",
    "\n",
    "#create list\n",
    "fam = [\"liz\", 1.73, \"emma\", 1.68, \"mom\", 1.71, \"dad\", 1.89]\n",
    "\n",
    "#slice list into a new list\n",
    "#[start: end]\n",
    "\n",
    "#indexes 3-4, because it starts at the 4th position and stops at the 6th\n",
    "print(fam[3:5])\n",
    "#indexes 0-3, because it starts at the 0th position and stops at the 3rd (exclusive)\n",
    "print(fam[:4])\n",
    "#indexes 5 to the end, because it starts at the 3rd position and has no end (inclusive)\\\n",
    "print(fam[5:])\n"
   ]
  },
  {
   "cell_type": "markdown",
   "id": "ba3f4b65",
   "metadata": {},
   "source": [
    "Subset and Conquer (exercise)\n",
    "        "
   ]
  },
  {
   "cell_type": "code",
   "execution_count": null,
   "id": "76878687",
   "metadata": {},
   "outputs": [
    {
     "name": "stdout",
     "output_type": "stream",
     "text": [
      "b\n",
      "b\n"
     ]
    }
   ],
   "source": [
    "#subsetting (example)\n",
    "x = [\"a\", \"b\", \"c\", \"d\"]\n",
    "print(x[1]) #(0 to 1 indesx)\n",
    "print(x[-3]) #same result! (0 to -1 (last part of list) to -2 to -3 index)"
   ]
  },
  {
   "cell_type": "code",
   "execution_count": null,
   "id": "1028607f",
   "metadata": {},
   "outputs": [
    {
     "name": "stdout",
     "output_type": "stream",
     "text": [
      "11.25\n",
      "9.5\n",
      "20.0\n"
     ]
    }
   ],
   "source": [
    "#instructions\n",
    "    #Print out the second element from the areas list (it has the value 11.25).\n",
    "    #Subset and print out the last element of areas, being 9.50. Using a negative index makes sense here!\n",
    "    #Select the number representing the area of the living room (20.0) and print it out.\n",
    "\n",
    "#Create the areas list\n",
    "areas = [\"hallway\", 11.25, \"kitchen\", 18.0, \"living room\", 20.0, \"bedroom\", 10.75, \"bathroom\", 9.50]\n",
    "\n",
    "#Print out second element from areas\n",
    "print(areas[1])\n",
    "\n",
    "#Print out last element from areas\n",
    "print(areas[-1])\n",
    "\n",
    "#Print out the area of the living room\n",
    "print(areas[5])"
   ]
  },
  {
   "cell_type": "markdown",
   "id": "f867e60a",
   "metadata": {},
   "source": [
    "Slicing and Dicing (exercise)\n",
    "    Slicing\n",
    "        Selecting multiple elements from a list\n",
    "        Start index is included, while the end index is not\n",
    "        If the start index isn't specified, then it will start at the beginning of the list"
   ]
  },
  {
   "cell_type": "code",
   "execution_count": null,
   "id": "2d53af6a",
   "metadata": {},
   "outputs": [
    {
     "name": "stdout",
     "output_type": "stream",
     "text": [
      "['Pee', 'pee']\n",
      "['Pee', 'pee']\n"
     ]
    }
   ],
   "source": [
    "#slicing (example)\n",
    "\n",
    "#create a list\n",
    "my_list = [\"Pee\", \"pee\", \"Poo\", \"poo\"]\n",
    "\n",
    "#slice the list, with the start included and end excluded\n",
    "print(my_list[0:2])\n",
    "\n",
    "#slice the list without a starting index, and it should still be the same as above\n",
    "print(my_list[:2])\n"
   ]
  },
  {
   "cell_type": "code",
   "execution_count": 27,
   "id": "d4669ce8",
   "metadata": {},
   "outputs": [
    {
     "name": "stdout",
     "output_type": "stream",
     "text": [
      "['hallway', 11.25, 'kitchen', 18.0, 'living room', 20.0]\n",
      "['bedroom', 10.75, 'bathroom', 9.5]\n"
     ]
    }
   ],
   "source": [
    "#instructions\n",
    "    #Use slicing to create a list, downstairs, that contains the first 6 elements of areas.\n",
    "    #Create upstairs, as the last 4 elements of areas. This time, simplify the slicing by omitting the end index.\n",
    "    #Print both downstairs and upstairs using print().\n",
    "\n",
    "#Create the areas list\n",
    "areas = [\"hallway\", 11.25, \"kitchen\", 18.0, \"living room\", 20.0, \"bedroom\", 10.75, \"bathroom\", 9.50]\n",
    "\n",
    "#Use slicing to create downstairs\n",
    "downstairs = areas[:6]\n",
    "\n",
    "#Use slicing to create upstairs\n",
    "upstairs = areas[6:]\n",
    "\n",
    "#Print out downstairs and upstairs\n",
    "print(downstairs)\n",
    "print(upstairs)"
   ]
  },
  {
   "cell_type": "code",
   "execution_count": null,
   "id": "c3356dbd",
   "metadata": {},
   "outputs": [],
   "source": [
    "Subsetting Lists of Lists (exercise)\n",
    "    Square brackets can be used to subset lists of lists"
   ]
  },
  {
   "cell_type": "code",
   "execution_count": null,
   "id": "b27e0f3a",
   "metadata": {},
   "outputs": [
    {
     "name": "stdout",
     "output_type": "stream",
     "text": [
      "9.5\n"
     ]
    }
   ],
   "source": [
    "#instructions\n",
    "    #Subset the house list to get the float 9.5.\n",
    "\n",
    "house = [[\"hallway\", 11.25],\n",
    "         [\"kitchen\", 18.0],\n",
    "         [\"living room\", 20.0],\n",
    "         [\"bedroom\", 10.75],\n",
    "         [\"bathroom\", 9.50]]\n",
    "\n",
    "#Subset the house list\n",
    "print(house[4][1])"
   ]
  },
  {
   "cell_type": "markdown",
   "id": "32ee8755",
   "metadata": {},
   "source": [
    "Manipulating Lists (video)\n",
    "    Changing, adding, and removing list elements\n",
    "    Lists are stored in computer memory as an address\n",
    "        The variable is a reference to the list and does not actually contain all the elements"
   ]
  },
  {
   "cell_type": "code",
   "execution_count": null,
   "id": "841afe4f",
   "metadata": {},
   "outputs": [
    {
     "name": "stdout",
     "output_type": "stream",
     "text": [
      "['liz', 1.73, 'emma', 1.68, 'mom', 1.71, 'dad', 1.86]\n",
      "['lisa', 1.74, 'emma', 1.68, 'mom', 1.71, 'dad', 1.86]\n",
      "['lisa', 1.74, 'emma', 1.68, 'mom', 1.71, 'dad', 1.86, 'me', 1.79]\n",
      "['lisa', 1.74, 1.68, 'mom', 1.71, 'dad', 1.86]\n"
     ]
    }
   ],
   "source": [
    "#changing list elements (video)\n",
    "\n",
    "#create list\n",
    "fam = [\"liz\", 1.73, \"emma\", 1.68, \"mom\", 1.71, \"dad\", 1.89]\n",
    "\n",
    "#change index of list to something else\n",
    "fam[7] = 1.86\n",
    "print(fam)\n",
    "\n",
    "#change list slice\n",
    "fam[0:2] = [\"lisa\", 1.74]\n",
    "print(fam)\n",
    "\n",
    "#adding elements\n",
    "#add two elements at the end\n",
    "fam_ext = fam + [\"me\", 1.79]\n",
    "print(fam_ext)\n",
    "\n",
    "#removing elements\n",
    "#remove index 2 aka position 1\n",
    "del fam[2]\n",
    "print(fam)\n"
   ]
  },
  {
   "cell_type": "code",
   "execution_count": 38,
   "id": "2c73d55c",
   "metadata": {},
   "outputs": [
    {
     "name": "stdout",
     "output_type": "stream",
     "text": [
      "['a', 'z', 'c']\n",
      "['a', 'z', 'c']\n",
      "['a', 'z', 'c']\n",
      "['a', 'pee', 'c']\n",
      "['a', 'z', 'c']\n",
      "['a', 'poo', 'c']\n"
     ]
    }
   ],
   "source": [
    "#storing lists bts (video)\n",
    "\n",
    "#create a list\n",
    "x = [\"a\", \"b\", \"c\"]\n",
    "#store list x as a new variable y with =\n",
    "#when copying x to y, it copied the reference to the list, not the actual values themselves\n",
    "    #it's one in the same list in computer memory\n",
    "y = x\n",
    "#change element of index one in list y\n",
    "y[1] = \"z\"\n",
    "#print shows that both x and y were changed\n",
    "print(x)\n",
    "print(y)\n",
    "\n",
    "#y can be created as a new list in memory rather than just a reference to the same x list\n",
    "#list function\n",
    "y = list(x)\n",
    "y[1] = \"pee\"\n",
    "print(x)\n",
    "print(y)\n",
    "#slicing all elements explicitly\n",
    "z = x[:]\n",
    "z[1] = \"poo\"\n",
    "print(x)\n",
    "print(z)"
   ]
  },
  {
   "cell_type": "markdown",
   "id": "605bd9db",
   "metadata": {},
   "source": [
    "Replacing List Elements (exercise)\n",
    "    Subset a list and assign new values to the subset\n",
    "        Can be single elements or entire list slices"
   ]
  },
  {
   "cell_type": "code",
   "execution_count": null,
   "id": "7bc6f132",
   "metadata": {},
   "outputs": [
    {
     "name": "stdout",
     "output_type": "stream",
     "text": [
      "['hallway', 11.25, 'kitchen', 18.0, 'chill zone', 20.0, 'bedroom', 10.75, 'bathroom', 10.5]\n"
     ]
    }
   ],
   "source": [
    "#instructions\n",
    "    #Update the area of the bathroom to be 10.50 square meters instead of 9.50 using negative indexing.\n",
    "    #Make the areas list more trendy! Change \"living room\" to \"chill zone\". Don't use negative indexing this time.\n",
    "\n",
    "# Create the areas list\n",
    "areas = [\"hallway\", 11.25, \"kitchen\", 18.0, \"living room\", 20.0, \"bedroom\", 10.75, \"bathroom\", 9.50]\n",
    "\n",
    "# Correct the bathroom area\n",
    "areas[-1] = 10.50\n",
    "\n",
    "# Change \"living room\" to \"chill zone\"\n",
    "areas[4] = \"chill zone\"\n",
    "\n",
    "#Print list out\n",
    "print(areas)"
   ]
  },
  {
   "cell_type": "markdown",
   "id": "1aa95ac3",
   "metadata": {},
   "source": [
    "Extend a List (exercise)\n",
    "    The + operator can be used to add elements to a list"
   ]
  },
  {
   "cell_type": "code",
   "execution_count": 41,
   "id": "6571fd7b",
   "metadata": {},
   "outputs": [
    {
     "name": "stdout",
     "output_type": "stream",
     "text": [
      "['hallway', 11.25, 'kitchen', 18.0, 'chill zone', 20.0, 'bedroom', 10.75, 'bathroom', 10.5, 'poolhouse', 24.5]\n",
      "['hallway', 11.25, 'kitchen', 18.0, 'chill zone', 20.0, 'bedroom', 10.75, 'bathroom', 10.5, 'poolhouse', 24.5, 'garage', 15.45]\n"
     ]
    }
   ],
   "source": [
    "#instructions\n",
    "    #Use the + operator to paste the list [\"poolhouse\", 24.5] to the end of the areas list. Store the resulting list as areas_1.\n",
    "    #Further extend areas_1 by adding data on your garage. Add the string \"garage\" and float 15.45. Name the resulting list areas_2.\n",
    "\n",
    "#Create the areas list and make some changes\n",
    "areas = [\"hallway\", 11.25, \"kitchen\", 18.0, \"chill zone\", 20.0,\n",
    "         \"bedroom\", 10.75, \"bathroom\", 10.50]\n",
    "\n",
    "#Add poolhouse data to areas, new list is areas_1\n",
    "areas_1 = areas + [\"poolhouse\", 24.5]\n",
    "print(areas_1)\n",
    "\n",
    "#Add garage data to areas_1, new list is areas_2\n",
    "areas_2 = areas_1 + [\"garage\", 15.45]\n",
    "print(areas_2)"
   ]
  },
  {
   "cell_type": "markdown",
   "id": "87c898a3",
   "metadata": {},
   "source": [
    "Delete List Elements (exercise)\n",
    "    Elements can be removed with the del statement\n",
    "    Indexes of all the elements that come after will change"
   ]
  },
  {
   "cell_type": "code",
   "execution_count": null,
   "id": "e45f11f6",
   "metadata": {},
   "outputs": [
    {
     "name": "stdout",
     "output_type": "stream",
     "text": [
      "['hallway', 11.25, 'kitchen', 18.0, 'chill zone', 20.0, 'bedroom', 10.75, 'bathroom', 10.5, 'garage', 15.45]\n"
     ]
    }
   ],
   "source": [
    "#instructions\n",
    "    #Delete the string and float for the \"poolhouse\" from your areas list.\n",
    "    #Print the updated areas list.\n",
    "\n",
    "areas = [\"hallway\", 11.25, \"kitchen\", 18.0,\n",
    "        \"chill zone\", 20.0, \"bedroom\", 10.75,\n",
    "         \"bathroom\", 10.50, \"poolhouse\", 24.5,\n",
    "         \"garage\", 15.45]\n",
    "\n",
    "#Delete the poolhouse items from the list\n",
    "del areas[10:12]\n",
    "\n",
    "#Print the updated list\n",
    "print(areas)"
   ]
  },
  {
   "cell_type": "markdown",
   "id": "8655790d",
   "metadata": {},
   "source": [
    "Inner Workings of Lists (exercise)"
   ]
  },
  {
   "cell_type": "code",
   "execution_count": null,
   "id": "d476c96e",
   "metadata": {},
   "outputs": [
    {
     "name": "stdout",
     "output_type": "stream",
     "text": [
      "[11.25, 18.0, 20.0, 10.75, 9.5]\n"
     ]
    }
   ],
   "source": [
    "#instructions\n",
    "    #Change the second command, that creates the variable areas_copy, such that areas_copy is an explicit copy of areas. After your edit, changes made to areas_copy shouldn't affect areas. Submit the answer to check this.\n",
    "\n",
    "#Create list areas\n",
    "areas = [11.25, 18.0, 20.0, 10.75, 9.50]\n",
    "\n",
    "#Change this command\n",
    "areas_copy = list(areas)\n",
    "\n",
    "#Change areas_copy\n",
    "areas_copy[0] = 5.0\n",
    "\n",
    "#Print areas\n",
    "print(areas)"
   ]
  }
 ],
 "metadata": {
  "kernelspec": {
   "display_name": "da-env",
   "language": "python",
   "name": "python3"
  },
  "language_info": {
   "codemirror_mode": {
    "name": "ipython",
    "version": 3
   },
   "file_extension": ".py",
   "mimetype": "text/x-python",
   "name": "python",
   "nbconvert_exporter": "python",
   "pygments_lexer": "ipython3",
   "version": "3.11.13"
  }
 },
 "nbformat": 4,
 "nbformat_minor": 5
}
