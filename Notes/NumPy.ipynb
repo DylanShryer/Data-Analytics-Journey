{
 "cells": [
  {
   "cell_type": "markdown",
   "id": "300c0176",
   "metadata": {},
   "source": [
    "NumPy (video)\n",
    "    Lists\n",
    "        Powerful\n",
    "        Collection of values\n",
    "        Hold different types\n",
    "        Change, add, remove\n",
    "        When analyzing data, mathematical operations need to be carried out over entire collections of values at a very fast speed\n",
    "    NumPy\n",
    "        Numeric Python\n",
    "        Arrays\n",
    "            An alternative to Python Lists\n",
    "            Can do quick calculations over entire arrays\n",
    "            Contain only one type, so if different types are put in they will all convert to strings\n",
    "            A new kind of Python type with its own methods\n",
    "        Subsetting\n",
    "            Can be found through indexing (like Python lists) or booleans\n",
    "    Comparison\n",
    "        Python doesn't know how to do calculations with regular lists\n",
    "        NumPy knows how to work with arrays like a list of single values\n"
   ]
  },
  {
   "cell_type": "code",
   "execution_count": 6,
   "id": "7517484a",
   "metadata": {},
   "outputs": [
    {
     "name": "stdout",
     "output_type": "stream",
     "text": [
      "[21.85171573 20.97505669 21.75028214 24.7473475  21.44127836]\n",
      "['1.0' 'is' 'True']\n",
      "[1.73, 1.68, 1.71, 1.89, 1.79, 65.4, 59.2, 63.6, 88.4, 68.7]\n",
      "[67.13 60.88 65.31 90.29 70.49]\n",
      "20.97505668934241\n",
      "[False False False  True False]\n"
     ]
    },
    {
     "data": {
      "text/plain": [
       "array([24.7473475])"
      ]
     },
     "execution_count": 6,
     "metadata": {},
     "output_type": "execute_result"
    }
   ],
   "source": [
    "#NumPy (video)\n",
    "\n",
    "#create lists\n",
    "height = [1.73, 1.68, 1.71, 1.89, 1.79]\n",
    "weight = [65.4, 59.2, 63.6, 88.4, 68.7]\n",
    "\n",
    "#error when finding the BMI\n",
    "#weight / height ** 2 #Python doesn't know how to do calculations on lists\n",
    "\n",
    "#import numpy\n",
    "import numpy as np\n",
    "#create a numpy array with the input being a regular Python list (object so method)\n",
    "np_height = np.array(height)\n",
    "np_weight = np.array(weight)\n",
    "\n",
    "#calculations were performed element wise with numpy rather than getting an error\n",
    "bmi = np_weight / np_height ** 2\n",
    "print(bmi)\n",
    "\n",
    "#NumPy array string conversion of different data types\n",
    "print(np.array([1.0, \"is\", True]))\n",
    "\n",
    "#NumPy arrays act differently when combined compared to Python lists\n",
    "#Python lists are put together\n",
    "pythonCombined = height + weight\n",
    "print(pythonCombined)\n",
    "#NumPy arrays add the values within together\n",
    "numpyCombined = np_height + np_weight\n",
    "print(numpyCombined)\n",
    "\n",
    "#Subsetting\n",
    "#indexing with square brackets (like Python lists)\n",
    "print(bmi[1])\n",
    "#boolean true and false\n",
    "print(bmi > 23)\n",
    "#subset boolean array with square brackets\n",
    "bmi[bmi > 23]"
   ]
  },
  {
   "cell_type": "markdown",
   "id": "1e7c6a44",
   "metadata": {},
   "source": [
    "First NumPy Array (exercise)"
   ]
  },
  {
   "cell_type": "code",
   "execution_count": null,
   "id": "9b080025",
   "metadata": {},
   "outputs": [
    {
     "name": "stdout",
     "output_type": "stream",
     "text": [
      "<class 'numpy.ndarray'>\n"
     ]
    }
   ],
   "source": [
    "#instructions\n",
    "    #Import the numpy package as np, so that you can refer to numpy with np.\n",
    "    #Use np.array() to create a numpy array from baseball. Name this array np_baseball.\n",
    "    #Print out the type of np_baseball to check that you got it right.\n",
    "\n",
    "#Import the numpy package as np\n",
    "import numpy as np\n",
    "\n",
    "baseball = [180, 215, 210, 210, 188, 176, 209, 200]\n",
    "\n",
    "#Create a numpy array from baseball: np_baseball\n",
    "np_baseball = np.array(baseball)\n",
    "\n",
    "#Print out type of np_baseball\n",
    "print(type(np_baseball))"
   ]
  },
  {
   "cell_type": "markdown",
   "id": "a4690312",
   "metadata": {},
   "source": [
    "Baseball Players' Height (exercise)"
   ]
  },
  {
   "cell_type": "code",
   "execution_count": 11,
   "id": "9e4155c7",
   "metadata": {},
   "outputs": [
    {
     "name": "stdout",
     "output_type": "stream",
     "text": [
      "[74 74 72 75 75 73]\n",
      "[1.8796 1.8796 1.8288 1.905  1.905  1.8542]\n"
     ]
    }
   ],
   "source": [
    "#instructions\n",
    "    #Create a numpy array from height_in. Name this new array np_height_in.\n",
    "    #Print np_height_in.\n",
    "    #Multiply np_height_in with 0.0254 to convert all height measurements from inches to meters. Store the new values in a new array, np_height_m.\n",
    "    #Print out np_height_m and check if the output makes sense.\n",
    "\n",
    "#Import numpy\n",
    "import numpy as np\n",
    "\n",
    "#create a list manually for height_in (already found in DataCamp, but not downloaded in particular environment)\n",
    "height_in = [74, 74, 72, 75, 75, 73]\n",
    "\n",
    "#Create a numpy array from height_in: np_height_in\n",
    "np_height_in = np.array(height_in)\n",
    "\n",
    "#Print out np_height_in\n",
    "print(np_height_in)\n",
    "\n",
    "#Convert np_height_in to m: np_height_m\n",
    "np_height_m = np_height_in * 0.0254\n",
    "\n",
    "#Print np_height_m\n",
    "print(np_height_m)"
   ]
  },
  {
   "cell_type": "markdown",
   "id": "bdcf57e0",
   "metadata": {},
   "source": [
    "NumPy Side Effects (exercise)\n",
    "    NumPy is great for vector arithmetic, although some functionalities have changed compared to Python lists\n",
    "        NumPy arrays cannot contain elements of different types and will automatically convert them to a common type\n",
    "        NumPy arrays see typical arithmetic operators, such as +, -, *, and / differently than Python lists"
   ]
  },
  {
   "cell_type": "code",
   "execution_count": 14,
   "id": "e15fb2c5",
   "metadata": {},
   "outputs": [
    {
     "name": "stdout",
     "output_type": "stream",
     "text": [
      "[4 5 2]\n",
      "[1 1 2 3 4 0]\n",
      "[4 5 2]\n",
      "[4 5 1]\n",
      "[0 1 2 3 4 5]\n"
     ]
    }
   ],
   "source": [
    "import numpy as np\n",
    "\n",
    "#instructions\n",
    "    #select an answer that matches the line of code below\n",
    "        #np.array([True, 1, 2, 3, 4, False])\n",
    "        #np.array([4, 3, 0]) + np.array([0, 2, 2])\n",
    "        #np.array([1, 1, 2]) + np.array([3, 4, -1])\n",
    "        #np.array([0, 1, 2, 3, 4, 5])\n",
    "\n",
    "#when integers and booleans are together, everything is changed to an integer, with True as 1 and False as 0\n",
    "print(np.array([True, 1, 2]) + np.array([3, 4, False]))\n",
    "\n",
    "#answer 1\n",
    "print(np.array([True, 1, 2, 3, 4, False]))\n",
    "\n",
    "#answer 2\n",
    "print(np.array([4, 3, 0]) + np.array([0, 2, 2]))\n",
    "\n",
    "#answer 3\n",
    "print(np.array([1, 1, 2]) + np.array([3, 4, -1]))\n",
    "\n",
    "#answer 4\n",
    "print(np.array([0, 1, 2, 3, 4, 5]))"
   ]
  },
  {
   "cell_type": "markdown",
   "id": "daf0477b",
   "metadata": {},
   "source": [
    "Subsetting NumPy Arrays (exercise)\n",
    "    Subsetting (using square bracket notation) works exactly the same with both lists and arrays"
   ]
  },
  {
   "cell_type": "code",
   "execution_count": 15,
   "id": "fb135a79",
   "metadata": {},
   "outputs": [
    {
     "name": "stdout",
     "output_type": "stream",
     "text": [
      "225\n",
      "[75 80 85 90 95]\n"
     ]
    }
   ],
   "source": [
    "#instructions\n",
    "    #Subset np_weight_lb by printing out the element at index 2.\n",
    "    #Print out a sub-array of np_height_in that contains the elements at index 5 up to and including index 10.\n",
    "\n",
    "import numpy as np\n",
    "\n",
    "#manually create lists, since MLB data is already loaded into DataCamp\n",
    "weight_lb = [150, 175, 200, 225, 250, 150, 175, 200, 225, 250]\n",
    "height_in = [75, 80, 85, 90, 95, 75, 80, 85, 90, 95]\n",
    "\n",
    "np_weight_lb = np.array(weight_lb)\n",
    "np_height_in = np.array(height_in)\n",
    "\n",
    "#Print out the weight at index 3\n",
    "print(np_weight_lb[3])\n",
    "\n",
    "#Print out sub-array of np_height_in: index 5 up to and including index 10\n",
    "print(np_height_in[5:11])"
   ]
  },
  {
   "cell_type": "markdown",
   "id": "6f565133",
   "metadata": {},
   "source": [
    "2D NumPy Arrays (video)\n",
    "    2D NumPy Array\n",
    "        Each subset in the list corresponds to a row in the two dimensional NumPy array\n",
    "        shape is an attribute of a NumPy array that can give more info about what the data structure looks like\n",
    "            Syntax looks kind of like calling a method, but they are not the same, as methods have round brackets after them\n",
    "        Can only contain a single type, so the NumPy can be homogenous\n",
    "        Improved lists of lists, performing advanced calculations, subsetting, etc.\n",
    "        Can perform element wise calculations"
   ]
  },
  {
   "cell_type": "code",
   "execution_count": 22,
   "id": "53cb8084",
   "metadata": {},
   "outputs": [
    {
     "name": "stdout",
     "output_type": "stream",
     "text": [
      "[[ 1.73  1.68  1.71  1.89  1.79]\n",
      " [65.4  59.2  63.6  88.4  68.7 ]]\n",
      "(2, 5)\n",
      "1.71\n",
      "1.71\n",
      "[[ 1.68  1.71]\n",
      " [59.2  63.6 ]]\n",
      "[65.4 59.2 63.6 88.4 68.7]\n"
     ]
    }
   ],
   "source": [
    "#2D NumPy Arrays (video)\n",
    "\n",
    "import numpy as np\n",
    "\n",
    "#create 2D NumPy array of the heights and weights of family members\n",
    "np_2d = np.array([[1.73, 1.68, 1.71, 1.89, 1.79],\n",
    "                    [65.4, 59.2, 63.6, 88.4, 68.7]])\n",
    "print(np_2d)\n",
    "\n",
    "#shape of the NumPy array\n",
    "print(np_2d.shape)\n",
    "\n",
    "#subsetting\n",
    "#select a specific value in the array by first choosing the row and then the column\n",
    "print(np_2d[0][2])\n",
    "#can be done by using single square brackets and a comma\n",
    "print(np_2d[0, 2])\n",
    "#find specific sections within the 2D NumPy array\n",
    "#select height and weight of second and third family members\n",
    "print(np_2d[:, 1:3]) #both height/weight rows and then indices 1 through 3 for the 2nd and 3rd columns\n",
    "#weight of all family members\n",
    "print(np_2d[1, :]) #only weight row but all family members in every column"
   ]
  },
  {
   "cell_type": "markdown",
   "id": "f037d94a",
   "metadata": {},
   "source": [
    "First 2D NumPy Array (exercise)"
   ]
  },
  {
   "cell_type": "code",
   "execution_count": null,
   "id": "623ced9e",
   "metadata": {},
   "outputs": [
    {
     "name": "stdout",
     "output_type": "stream",
     "text": [
      "<class 'numpy.ndarray'>\n",
      "(4, 2)\n"
     ]
    }
   ],
   "source": [
    "#instructions\n",
    "    #Use np.array() to create a 2D numpy array from baseball. Name it np_baseball.\n",
    "    #Print out the type of np_baseball.\n",
    "    #Print out the shape attribute of np_baseball. Use np_baseball.shape.\n",
    "\n",
    "import numpy as np\n",
    "\n",
    "baseball = [[180, 78.4],\n",
    "            [215, 102.7],\n",
    "            [210, 98.5],\n",
    "            [188, 75.2]]\n",
    "\n",
    "#Create a 2D numpy array from baseball: np_baseball\n",
    "np_baseball = np.array(baseball)\n",
    "\n",
    "#Print out the type of np_baseball\n",
    "print(type(np_baseball))\n",
    "\n",
    "#Print out the shape of np_baseball\n",
    "print(np_baseball.shape)"
   ]
  },
  {
   "cell_type": "markdown",
   "id": "c5fad102",
   "metadata": {},
   "source": [
    "Subsetting 2D NumPy Arrays (exercise)\n",
    "    When a 2D NumPy Array has a fixed structure (rows/columsn have fixed number of values), complicated ways of subsetting become easy\n",
    "    Indexes before the comma refer to rows, while those after the comma refer to columns\n",
    "    : is for full inclusion when slicing"
   ]
  },
  {
   "cell_type": "code",
   "execution_count": null,
   "id": "ac93e408",
   "metadata": {},
   "outputs": [
    {
     "name": "stdout",
     "output_type": "stream",
     "text": [
      "[215.  102.7]\n",
      "[ 78.4 102.7  98.5  75.2]\n",
      "210.0\n"
     ]
    }
   ],
   "source": [
    "#instructions\n",
    "    #Print out the 2nd row of np_baseball.\n",
    "    #Make a new variable, np_weight_lb, containing the entire second column of np_baseball.\n",
    "    #Select the height (first column) of the 3rd baseball player in np_baseball and print it out.\n",
    "\n",
    "import numpy as np\n",
    "\n",
    "#create a list, with first column being height and second being weight\n",
    "baseball = [[180, 78.4],\n",
    "            [215, 102.7],\n",
    "            [210, 98.5],\n",
    "            [188, 75.2]]\n",
    "\n",
    "#Create a 2D numpy array from baseball: np_baseball\n",
    "np_baseball = np.array(baseball)\n",
    "\n",
    "#Print out the 2nd row of np_baseball\n",
    "print(np_baseball[1, :])\n",
    "\n",
    "#Select the entire second column of np_baseball: np_weight_lb\n",
    "np_weight_lb = np_baseball[:, 1]\n",
    "print(np_weight_lb)\n",
    "\n",
    "#Print out height of 3rd player\n",
    "print(np_baseball[2, 0])"
   ]
  },
  {
   "cell_type": "markdown",
   "id": "f6ac0044",
   "metadata": {},
   "source": [
    "2D Arithmetic (exercise)\n",
    "    2D NumPy arrays can perform calculations element by element"
   ]
  },
  {
   "cell_type": "code",
   "execution_count": 3,
   "id": "b8288442",
   "metadata": {},
   "outputs": [
    {
     "name": "stdout",
     "output_type": "stream",
     "text": [
      "[[ 75.2303559  168.83775102  26.99      ]\n",
      " [ 75.02614252 231.097323    32.69      ]\n",
      " [ 76.1544228  195.08167641  28.78      ]\n",
      " [ 74.09349925 199.23890778  29.01      ]]\n",
      "[[ 1.8796  81.64656 25.99   ]\n",
      " [ 1.8796  97.52228 31.69   ]\n",
      " [ 1.905   86.18248 27.78   ]\n",
      " [ 1.8542  88.45044 28.01   ]]\n"
     ]
    }
   ],
   "source": [
    "#instructions\n",
    "    #You managed to get hold of the changes in height, weight and age of all baseball players. It is available as a 2D numpy array, updated. Add np_baseball and updated and print out the result.\n",
    "    #You want to convert the units of height and weight to metric (meters and kilograms, respectively). As a first step, create a numpy array with three values: 0.0254, 0.453592 and 1. Name this array conversion.\n",
    "    #Multiply np_baseball with conversion and print out the result.\n",
    "\n",
    "import numpy as np\n",
    "\n",
    "#create a list of height (in), weight (lbs) and age (yrs)\n",
    "baseball = [[74., 180., 25.99],\n",
    "            [74., 215., 31.69],\n",
    "            [75., 190., 27.78],\n",
    "            [73., 195., 28.01]]\n",
    "\n",
    "np_baseball = np.array(baseball)\n",
    "\n",
    "#Print out addition of np_baseball and updated\n",
    "#create a list with updated changes\n",
    "updated_list =   [[1.2303559, -11.16224898, 1.],\n",
    "            [1.02614252, 16.09732300, 1.],\n",
    "            [1.1544228, 5.08167641, 1.],\n",
    "            [1.09349925, 4.23890778, 1.]]\n",
    "#change to NumPy array\n",
    "updated = np.array(updated_list)\n",
    "#print combined list with changes\n",
    "print(np_baseball+ updated)\n",
    "\n",
    "#Create numpy array: conversion\n",
    "conversion_list = [[0.0254, 0.453592, 1]]\n",
    "#change to NumPy array\n",
    "conversion = np.array(conversion_list)\n",
    "\n",
    "#Print out product of np_baseball and conversion\n",
    "print(np_baseball * conversion)"
   ]
  },
  {
   "cell_type": "markdown",
   "id": "25c395ee",
   "metadata": {},
   "source": [
    "NumPy Basic Statistics (video)\n",
    "    Data Analysis\n",
    "        Get to know data\n",
    "        Little data is simple to look out, but what about a large amount of data\n",
    "    NumPy\n",
    "        mean function finds average\n",
    "        median function finds the middle value(s) when sorted\n",
    "        corrrcoef function to check if there is correlation between values\n",
    "        std function for standard deviation\n",
    "        sum and sort functions are included, which also exist in Python\n",
    "            NumPy's enforcement of a single data type in an array drastically speeds up calculations compared to Python\n",
    "    Generate Data\n",
    "        random.normal function to create random distributions\n",
    "            Attributes include distribution mean, distribution standard deviation, and number of samples\n",
    "        round for rounding decimal places\n",
    "        column_stack function to paste together as two columns"
   ]
  },
  {
   "cell_type": "code",
   "execution_count": null,
   "id": "0ca43a9b",
   "metadata": {},
   "outputs": [
    {
     "name": "stdout",
     "output_type": "stream",
     "text": [
      "1.8199999999999998\n",
      "2.01\n",
      "[[1.         0.74289454]\n",
      " [0.74289454 1.        ]]\n",
      "0.2712194683277732\n",
      "[[ 1.35 38.73]\n",
      " [ 1.83 61.91]\n",
      " [ 1.53 59.91]\n",
      " ...\n",
      " [ 1.75 56.38]\n",
      " [ 1.71 71.67]\n",
      " [ 1.56 73.26]]\n"
     ]
    }
   ],
   "source": [
    "#Large Data (video)\n",
    "import numpy as np\n",
    "\n",
    "#city-wide survey data (pretend to ahve 5000 lines)\n",
    "#create a list\n",
    "np_city_list = ([1.64, 71.78],\n",
    "                [1.37, 63.35],\n",
    "                [2.04, 74.85],\n",
    "                [2.04, 68.72],\n",
    "                [2.01, 73.57])\n",
    "#change to NumPy array\n",
    "np_city = np.array(np_city_list)\n",
    "\n",
    "#mean height of city\n",
    "print(np.mean(np_city[:, 0]))\n",
    "\n",
    "#median height of city\n",
    "print(np.median(np_city[:, 0]))\n",
    "\n",
    "#correlation check between city heights and weights\n",
    "print(np.corrcoef(np_city[:, 0], np_city[:,1]))\n",
    "\n",
    "#standard deviation\n",
    "print(np.std(np_city[:,0]))\n",
    "\n",
    "#generate large amount of data\n",
    "height = np.round(np.random.normal(1.75, 0.20, 5000), 2)\n",
    "weight = np.round(np.random.normal(60.32, 15, 5000), 2)\n",
    "\n",
    "large_np_city = np.column_stack((height, weight))\n",
    "print(large_np_city)"
   ]
  },
  {
   "cell_type": "markdown",
   "id": "3e87fdd6",
   "metadata": {},
   "source": [
    "Average versus Median (exercise)"
   ]
  },
  {
   "cell_type": "code",
   "execution_count": 19,
   "id": "cd8cc35f",
   "metadata": {},
   "outputs": [
    {
     "name": "stdout",
     "output_type": "stream",
     "text": [
      "[[ 72.73 191.48  23.36]\n",
      " [ 72.77 195.63  24.94]\n",
      " [ 72.72 178.44  22.44]\n",
      " ...\n",
      " [ 72.9  212.26  30.13]\n",
      " [ 73.06 198.97  32.18]\n",
      " [ 73.38 228.73  32.28]]\n",
      "[72.73 72.77 72.72 ... 72.9  73.06 73.38]\n",
      "73.00273333333332\n",
      "73.01\n"
     ]
    }
   ],
   "source": [
    "#instructions\n",
    "    #Create numpy array np_height_in that is equal to first column of np_baseball.\n",
    "    #Print out the mean of np_height_in.\n",
    "    #Print out the median of np_height_in.\n",
    "\n",
    "import numpy as np\n",
    "\n",
    "#create a mock NumPy array of baseball data with  3 columns (height, weight, age) and 1015 rows\n",
    "height = np.round(np.random.normal(73, 0.20, 1050), 2)\n",
    "weight = np.round(np.random.normal(195, 15, 1050), 2)\n",
    "age = np.round(np.random.normal(30, 5, 1050), 2)\n",
    "\n",
    "np_baseball = np.column_stack((height, weight, age))\n",
    "print(np_baseball)\n",
    "\n",
    "#Create np_height_in from np_baseball\n",
    "np_height_in = np_baseball[:, 0]\n",
    "print(np_height_in)\n",
    "\n",
    "#Print out the mean of np_height_in\n",
    "print(np.mean(np_height_in))\n",
    "\n",
    "#Print out the median of np_height_in\n",
    "print(np.median(np_height_in))"
   ]
  },
  {
   "cell_type": "markdown",
   "id": "a346f828",
   "metadata": {},
   "source": [
    "Explore Baseball Data (exercise)"
   ]
  },
  {
   "cell_type": "code",
   "execution_count": 21,
   "id": "4d02fe31",
   "metadata": {},
   "outputs": [
    {
     "name": "stdout",
     "output_type": "stream",
     "text": [
      "[[ 73.02 189.84  17.13]\n",
      " [ 73.09 167.48  28.21]\n",
      " [ 73.27 224.28  26.1 ]\n",
      " ...\n",
      " [ 73.13 199.16  28.22]\n",
      " [ 72.6  199.72  32.27]\n",
      " [ 73.07 191.04  34.99]]\n",
      "Average: 72.99948571428571\n",
      "Median: 73.0\n",
      "Standard Deviation: 0.20408290165591852\n",
      "Correlation: [[1.         0.03427527]\n",
      " [0.03427527 1.        ]]\n"
     ]
    }
   ],
   "source": [
    "#instructions\n",
    "    #The code to print out the mean height is already included. Complete the code for the median height.\n",
    "    #Use np.std() on the first column of np_baseball to calculate stddev.\n",
    "    #Do big players tend to be heavier? Use np.corrcoef() to store the correlation between the first and second column of np_baseball in corr.\n",
    "\n",
    "import numpy as np\n",
    "\n",
    "#create a mock NumPy array of baseball data with  3 columns (height, weight, age) and 1015 rows\n",
    "height = np.round(np.random.normal(73, 0.20, 1050), 2)\n",
    "weight = np.round(np.random.normal(195, 15, 1050), 2)\n",
    "age = np.round(np.random.normal(30, 5, 1050), 2)\n",
    "\n",
    "np_baseball = np.column_stack((height, weight, age))\n",
    "print(np_baseball)\n",
    "\n",
    "avg = np.mean(np_baseball[:,0])\n",
    "print(\"Average: \" + str(avg))\n",
    "\n",
    "# Print median height\n",
    "med = np.median(np_baseball[:, 0])\n",
    "print(\"Median: \" + str(med))\n",
    "\n",
    "# Print out the standard deviation on height\n",
    "stddev = np.std(np_baseball[:, 0])\n",
    "print(\"Standard Deviation: \" + str(stddev))\n",
    "\n",
    "# Print out correlation between first and second column\n",
    "corr = np.corrcoef(np_baseball[:, 0], np_baseball[:, 1])\n",
    "print(\"Correlation: \" + str(corr))"
   ]
  }
 ],
 "metadata": {
  "kernelspec": {
   "display_name": "da-env",
   "language": "python",
   "name": "python3"
  },
  "language_info": {
   "codemirror_mode": {
    "name": "ipython",
    "version": 3
   },
   "file_extension": ".py",
   "mimetype": "text/x-python",
   "name": "python",
   "nbconvert_exporter": "python",
   "pygments_lexer": "ipython3",
   "version": "3.11.13"
  }
 },
 "nbformat": 4,
 "nbformat_minor": 5
}
